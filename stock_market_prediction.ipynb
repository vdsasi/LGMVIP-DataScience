{
  "nbformat": 4,
  "nbformat_minor": 0,
  "metadata": {
    "colab": {
      "provenance": []
    },
    "kernelspec": {
      "name": "python3",
      "display_name": "Python 3"
    },
    "language_info": {
      "name": "python"
    },
    "gpuClass": "standard"
  },
  "cells": [
    {
      "cell_type": "code",
      "execution_count": null,
      "metadata": {
        "id": "msK_YuQY9O-0"
      },
      "outputs": [],
      "source": [
        "import pandas as pd\n",
        "import numpy as np\n",
        "from sklearn.preprocessing import MinMaxScaler\n",
        "from keras.models import Sequential\n",
        "from keras.layers import LSTM, Dense"
      ]
    },
    {
      "cell_type": "code",
      "source": [
        "data = pd.read_csv(\"https://raw.githubusercontent.com/mwitiderrick/stockprice/master/NSE-TATAGLOBAL.csv\")\n",
        "\n",
        "data.head()"
      ],
      "metadata": {
        "colab": {
          "base_uri": "https://localhost:8080/",
          "height": 206
        },
        "id": "heLhVDIH-MBd",
        "outputId": "6c254b8d-97be-43e3-de2d-f5732bd3ed57"
      },
      "execution_count": null,
      "outputs": [
        {
          "output_type": "execute_result",
          "data": {
            "text/plain": [
              "         Date    Open    High     Low    Last   Close  Total Trade Quantity  \\\n",
              "0  2018-09-28  234.05  235.95  230.20  233.50  233.75               3069914   \n",
              "1  2018-09-27  234.55  236.80  231.10  233.80  233.25               5082859   \n",
              "2  2018-09-26  240.00  240.00  232.50  235.00  234.25               2240909   \n",
              "3  2018-09-25  233.30  236.75  232.00  236.25  236.10               2349368   \n",
              "4  2018-09-24  233.55  239.20  230.75  234.00  233.30               3423509   \n",
              "\n",
              "   Turnover (Lacs)  \n",
              "0          7162.35  \n",
              "1         11859.95  \n",
              "2          5248.60  \n",
              "3          5503.90  \n",
              "4          7999.55  "
            ],
            "text/html": [
              "\n",
              "  <div id=\"df-4aa6c68e-f95c-424b-b267-43a6d488771e\">\n",
              "    <div class=\"colab-df-container\">\n",
              "      <div>\n",
              "<style scoped>\n",
              "    .dataframe tbody tr th:only-of-type {\n",
              "        vertical-align: middle;\n",
              "    }\n",
              "\n",
              "    .dataframe tbody tr th {\n",
              "        vertical-align: top;\n",
              "    }\n",
              "\n",
              "    .dataframe thead th {\n",
              "        text-align: right;\n",
              "    }\n",
              "</style>\n",
              "<table border=\"1\" class=\"dataframe\">\n",
              "  <thead>\n",
              "    <tr style=\"text-align: right;\">\n",
              "      <th></th>\n",
              "      <th>Date</th>\n",
              "      <th>Open</th>\n",
              "      <th>High</th>\n",
              "      <th>Low</th>\n",
              "      <th>Last</th>\n",
              "      <th>Close</th>\n",
              "      <th>Total Trade Quantity</th>\n",
              "      <th>Turnover (Lacs)</th>\n",
              "    </tr>\n",
              "  </thead>\n",
              "  <tbody>\n",
              "    <tr>\n",
              "      <th>0</th>\n",
              "      <td>2018-09-28</td>\n",
              "      <td>234.05</td>\n",
              "      <td>235.95</td>\n",
              "      <td>230.20</td>\n",
              "      <td>233.50</td>\n",
              "      <td>233.75</td>\n",
              "      <td>3069914</td>\n",
              "      <td>7162.35</td>\n",
              "    </tr>\n",
              "    <tr>\n",
              "      <th>1</th>\n",
              "      <td>2018-09-27</td>\n",
              "      <td>234.55</td>\n",
              "      <td>236.80</td>\n",
              "      <td>231.10</td>\n",
              "      <td>233.80</td>\n",
              "      <td>233.25</td>\n",
              "      <td>5082859</td>\n",
              "      <td>11859.95</td>\n",
              "    </tr>\n",
              "    <tr>\n",
              "      <th>2</th>\n",
              "      <td>2018-09-26</td>\n",
              "      <td>240.00</td>\n",
              "      <td>240.00</td>\n",
              "      <td>232.50</td>\n",
              "      <td>235.00</td>\n",
              "      <td>234.25</td>\n",
              "      <td>2240909</td>\n",
              "      <td>5248.60</td>\n",
              "    </tr>\n",
              "    <tr>\n",
              "      <th>3</th>\n",
              "      <td>2018-09-25</td>\n",
              "      <td>233.30</td>\n",
              "      <td>236.75</td>\n",
              "      <td>232.00</td>\n",
              "      <td>236.25</td>\n",
              "      <td>236.10</td>\n",
              "      <td>2349368</td>\n",
              "      <td>5503.90</td>\n",
              "    </tr>\n",
              "    <tr>\n",
              "      <th>4</th>\n",
              "      <td>2018-09-24</td>\n",
              "      <td>233.55</td>\n",
              "      <td>239.20</td>\n",
              "      <td>230.75</td>\n",
              "      <td>234.00</td>\n",
              "      <td>233.30</td>\n",
              "      <td>3423509</td>\n",
              "      <td>7999.55</td>\n",
              "    </tr>\n",
              "  </tbody>\n",
              "</table>\n",
              "</div>\n",
              "      <button class=\"colab-df-convert\" onclick=\"convertToInteractive('df-4aa6c68e-f95c-424b-b267-43a6d488771e')\"\n",
              "              title=\"Convert this dataframe to an interactive table.\"\n",
              "              style=\"display:none;\">\n",
              "        \n",
              "  <svg xmlns=\"http://www.w3.org/2000/svg\" height=\"24px\"viewBox=\"0 0 24 24\"\n",
              "       width=\"24px\">\n",
              "    <path d=\"M0 0h24v24H0V0z\" fill=\"none\"/>\n",
              "    <path d=\"M18.56 5.44l.94 2.06.94-2.06 2.06-.94-2.06-.94-.94-2.06-.94 2.06-2.06.94zm-11 1L8.5 8.5l.94-2.06 2.06-.94-2.06-.94L8.5 2.5l-.94 2.06-2.06.94zm10 10l.94 2.06.94-2.06 2.06-.94-2.06-.94-.94-2.06-.94 2.06-2.06.94z\"/><path d=\"M17.41 7.96l-1.37-1.37c-.4-.4-.92-.59-1.43-.59-.52 0-1.04.2-1.43.59L10.3 9.45l-7.72 7.72c-.78.78-.78 2.05 0 2.83L4 21.41c.39.39.9.59 1.41.59.51 0 1.02-.2 1.41-.59l7.78-7.78 2.81-2.81c.8-.78.8-2.07 0-2.86zM5.41 20L4 18.59l7.72-7.72 1.47 1.35L5.41 20z\"/>\n",
              "  </svg>\n",
              "      </button>\n",
              "      \n",
              "  <style>\n",
              "    .colab-df-container {\n",
              "      display:flex;\n",
              "      flex-wrap:wrap;\n",
              "      gap: 12px;\n",
              "    }\n",
              "\n",
              "    .colab-df-convert {\n",
              "      background-color: #E8F0FE;\n",
              "      border: none;\n",
              "      border-radius: 50%;\n",
              "      cursor: pointer;\n",
              "      display: none;\n",
              "      fill: #1967D2;\n",
              "      height: 32px;\n",
              "      padding: 0 0 0 0;\n",
              "      width: 32px;\n",
              "    }\n",
              "\n",
              "    .colab-df-convert:hover {\n",
              "      background-color: #E2EBFA;\n",
              "      box-shadow: 0px 1px 2px rgba(60, 64, 67, 0.3), 0px 1px 3px 1px rgba(60, 64, 67, 0.15);\n",
              "      fill: #174EA6;\n",
              "    }\n",
              "\n",
              "    [theme=dark] .colab-df-convert {\n",
              "      background-color: #3B4455;\n",
              "      fill: #D2E3FC;\n",
              "    }\n",
              "\n",
              "    [theme=dark] .colab-df-convert:hover {\n",
              "      background-color: #434B5C;\n",
              "      box-shadow: 0px 1px 3px 1px rgba(0, 0, 0, 0.15);\n",
              "      filter: drop-shadow(0px 1px 2px rgba(0, 0, 0, 0.3));\n",
              "      fill: #FFFFFF;\n",
              "    }\n",
              "  </style>\n",
              "\n",
              "      <script>\n",
              "        const buttonEl =\n",
              "          document.querySelector('#df-4aa6c68e-f95c-424b-b267-43a6d488771e button.colab-df-convert');\n",
              "        buttonEl.style.display =\n",
              "          google.colab.kernel.accessAllowed ? 'block' : 'none';\n",
              "\n",
              "        async function convertToInteractive(key) {\n",
              "          const element = document.querySelector('#df-4aa6c68e-f95c-424b-b267-43a6d488771e');\n",
              "          const dataTable =\n",
              "            await google.colab.kernel.invokeFunction('convertToInteractive',\n",
              "                                                     [key], {});\n",
              "          if (!dataTable) return;\n",
              "\n",
              "          const docLinkHtml = 'Like what you see? Visit the ' +\n",
              "            '<a target=\"_blank\" href=https://colab.research.google.com/notebooks/data_table.ipynb>data table notebook</a>'\n",
              "            + ' to learn more about interactive tables.';\n",
              "          element.innerHTML = '';\n",
              "          dataTable['output_type'] = 'display_data';\n",
              "          await google.colab.output.renderOutput(dataTable, element);\n",
              "          const docLink = document.createElement('div');\n",
              "          docLink.innerHTML = docLinkHtml;\n",
              "          element.appendChild(docLink);\n",
              "        }\n",
              "      </script>\n",
              "    </div>\n",
              "  </div>\n",
              "  "
            ]
          },
          "metadata": {},
          "execution_count": 25
        }
      ]
    },
    {
      "cell_type": "code",
      "source": [
        "data['Date'] = pd.to_datetime(data['Date'])\n",
        "data.set_index('Date', inplace=True)"
      ],
      "metadata": {
        "id": "isCxUcox-Sfe"
      },
      "execution_count": null,
      "outputs": []
    },
    {
      "cell_type": "code",
      "source": [
        "data = data.sort_index()"
      ],
      "metadata": {
        "id": "b4SjYCGd-4z_"
      },
      "execution_count": null,
      "outputs": []
    },
    {
      "cell_type": "code",
      "source": [
        "data.drop(['Total Trade Quantity', 'Turnover (Lacs)'], axis=1, inplace=True)\n"
      ],
      "metadata": {
        "id": "HObO9_GiTxlA"
      },
      "execution_count": null,
      "outputs": []
    },
    {
      "cell_type": "code",
      "source": [
        "train_size = 0.8\n",
        "train_data = data[ :int(len(data)*0.8)]\n",
        "test_data = data[int(len(data)*0.8): ]\n"
      ],
      "metadata": {
        "id": "RPOly8BLQNuB"
      },
      "execution_count": null,
      "outputs": []
    },
    {
      "cell_type": "code",
      "source": [
        "scaler = MinMaxScaler()\n",
        "train_data_scaled = scaler.fit_transform(train_data)\n",
        "test_data_scaled = scaler.transform(test_data)"
      ],
      "metadata": {
        "id": "n-_NDC3ARAzV"
      },
      "execution_count": null,
      "outputs": []
    },
    {
      "cell_type": "code",
      "source": [
        "timesteps = 3\n",
        "n_features = 4  \n",
        "\n",
        "train_X, train_y = [], []\n",
        "for i in range(timesteps, len(train_data_scaled)):\n",
        "    train_X.append(train_data_scaled[i-timesteps:i, :n_features])  \n",
        "    train_y.append(train_data_scaled[i, -1])\n",
        "train_X, train_y = np.array(train_X), np.array(train_y)"
      ],
      "metadata": {
        "id": "d13iFqRcRWh7"
      },
      "execution_count": null,
      "outputs": []
    },
    {
      "cell_type": "code",
      "source": [
        "\n",
        "test_X, test_y = [], []\n",
        "for i in range(timesteps, len(test_data_scaled)):\n",
        "    test_X.append(test_data_scaled[i-timesteps:i, :n_features])\n",
        "    test_y.append(test_data_scaled[i, -1])\n",
        "test_X, test_y = np.array(test_X), np.array(test_y)"
      ],
      "metadata": {
        "id": "OvM4kWJIRoQa"
      },
      "execution_count": null,
      "outputs": []
    },
    {
      "cell_type": "code",
      "source": [
        "model = Sequential()\n",
        "model.add(LSTM(50, activation='relu', return_sequences=True, input_shape=(timesteps, 4)))\n",
        "model.add(LSTM(50, activation='relu'))\n",
        "model.add(Dense(1))\n",
        "model.compile(loss='mse', optimizer='adam')"
      ],
      "metadata": {
        "id": "E2j_TKXxVQSN"
      },
      "execution_count": null,
      "outputs": []
    },
    {
      "cell_type": "code",
      "source": [
        "history = model.fit(train_X, train_y, epochs=50, batch_size=64, validation_data=(test_X, test_y), verbose=1)"
      ],
      "metadata": {
        "colab": {
          "base_uri": "https://localhost:8080/"
        },
        "id": "d1UIescoWSUh",
        "outputId": "5c45e7b3-8afd-42bd-95d5-7a7ef063c0ec"
      },
      "execution_count": null,
      "outputs": [
        {
          "output_type": "stream",
          "name": "stdout",
          "text": [
            "Epoch 1/50\n",
            "26/26 [==============================] - 1s 27ms/step - loss: 7.8772e-04 - val_loss: 0.0172\n",
            "Epoch 2/50\n",
            "26/26 [==============================] - 1s 28ms/step - loss: 8.0460e-04 - val_loss: 0.0183\n",
            "Epoch 3/50\n",
            "26/26 [==============================] - 1s 19ms/step - loss: 8.0094e-04 - val_loss: 0.0208\n",
            "Epoch 4/50\n",
            "26/26 [==============================] - 0s 16ms/step - loss: 7.8478e-04 - val_loss: 0.0160\n",
            "Epoch 5/50\n",
            "26/26 [==============================] - 0s 15ms/step - loss: 7.9471e-04 - val_loss: 0.0235\n",
            "Epoch 6/50\n",
            "26/26 [==============================] - 1s 20ms/step - loss: 7.7577e-04 - val_loss: 0.0096\n",
            "Epoch 7/50\n",
            "26/26 [==============================] - 0s 17ms/step - loss: 7.7862e-04 - val_loss: 0.0118\n",
            "Epoch 8/50\n",
            "26/26 [==============================] - 1s 24ms/step - loss: 8.4285e-04 - val_loss: 0.0082\n",
            "Epoch 9/50\n",
            "26/26 [==============================] - 1s 21ms/step - loss: 7.8750e-04 - val_loss: 0.0235\n",
            "Epoch 10/50\n",
            "26/26 [==============================] - 0s 19ms/step - loss: 7.9767e-04 - val_loss: 0.0243\n",
            "Epoch 11/50\n",
            "26/26 [==============================] - 0s 16ms/step - loss: 8.1097e-04 - val_loss: 0.0233\n",
            "Epoch 12/50\n",
            "26/26 [==============================] - 1s 20ms/step - loss: 8.0857e-04 - val_loss: 0.0207\n",
            "Epoch 13/50\n",
            "26/26 [==============================] - 0s 17ms/step - loss: 7.8353e-04 - val_loss: 0.0109\n",
            "Epoch 14/50\n",
            "26/26 [==============================] - 0s 17ms/step - loss: 8.1762e-04 - val_loss: 0.0093\n",
            "Epoch 15/50\n",
            "26/26 [==============================] - 0s 16ms/step - loss: 8.1355e-04 - val_loss: 0.0140\n",
            "Epoch 16/50\n",
            "26/26 [==============================] - 1s 20ms/step - loss: 7.9388e-04 - val_loss: 0.0148\n",
            "Epoch 17/50\n",
            "26/26 [==============================] - 1s 25ms/step - loss: 8.4650e-04 - val_loss: 0.0149\n",
            "Epoch 18/50\n",
            "26/26 [==============================] - 0s 18ms/step - loss: 7.8274e-04 - val_loss: 0.0193\n",
            "Epoch 19/50\n",
            "26/26 [==============================] - 0s 19ms/step - loss: 7.9901e-04 - val_loss: 0.0086\n",
            "Epoch 20/50\n",
            "26/26 [==============================] - 0s 16ms/step - loss: 8.0190e-04 - val_loss: 0.0164\n",
            "Epoch 21/50\n",
            "26/26 [==============================] - 0s 17ms/step - loss: 7.9501e-04 - val_loss: 0.0095\n",
            "Epoch 22/50\n",
            "26/26 [==============================] - 0s 15ms/step - loss: 8.9515e-04 - val_loss: 0.0088\n",
            "Epoch 23/50\n",
            "26/26 [==============================] - 1s 21ms/step - loss: 8.9051e-04 - val_loss: 0.0070\n",
            "Epoch 24/50\n",
            "26/26 [==============================] - 1s 38ms/step - loss: 8.2602e-04 - val_loss: 0.0180\n",
            "Epoch 25/50\n",
            "26/26 [==============================] - 1s 23ms/step - loss: 8.4453e-04 - val_loss: 0.0081\n",
            "Epoch 26/50\n",
            "26/26 [==============================] - 1s 31ms/step - loss: 8.3093e-04 - val_loss: 0.0190\n",
            "Epoch 27/50\n",
            "26/26 [==============================] - 1s 22ms/step - loss: 8.1985e-04 - val_loss: 0.0229\n",
            "Epoch 28/50\n",
            "26/26 [==============================] - 1s 20ms/step - loss: 8.4090e-04 - val_loss: 0.0246\n",
            "Epoch 29/50\n",
            "26/26 [==============================] - 0s 18ms/step - loss: 7.7068e-04 - val_loss: 0.0126\n",
            "Epoch 30/50\n",
            "26/26 [==============================] - 0s 11ms/step - loss: 7.7803e-04 - val_loss: 0.0107\n",
            "Epoch 31/50\n",
            "26/26 [==============================] - 0s 17ms/step - loss: 7.7270e-04 - val_loss: 0.0171\n",
            "Epoch 32/50\n",
            "26/26 [==============================] - 1s 21ms/step - loss: 7.7162e-04 - val_loss: 0.0087\n",
            "Epoch 33/50\n",
            "26/26 [==============================] - 1s 21ms/step - loss: 7.7718e-04 - val_loss: 0.0101\n",
            "Epoch 34/50\n",
            "26/26 [==============================] - 0s 19ms/step - loss: 7.7981e-04 - val_loss: 0.0211\n",
            "Epoch 35/50\n",
            "26/26 [==============================] - 1s 27ms/step - loss: 7.9101e-04 - val_loss: 0.0163\n",
            "Epoch 36/50\n",
            "26/26 [==============================] - 0s 19ms/step - loss: 7.9310e-04 - val_loss: 0.0221\n",
            "Epoch 37/50\n",
            "26/26 [==============================] - 0s 11ms/step - loss: 8.1300e-04 - val_loss: 0.0128\n",
            "Epoch 38/50\n",
            "26/26 [==============================] - 0s 10ms/step - loss: 7.6114e-04 - val_loss: 0.0150\n",
            "Epoch 39/50\n",
            "26/26 [==============================] - 0s 10ms/step - loss: 8.0732e-04 - val_loss: 0.0146\n",
            "Epoch 40/50\n",
            "26/26 [==============================] - 0s 9ms/step - loss: 7.7399e-04 - val_loss: 0.0141\n",
            "Epoch 41/50\n",
            "26/26 [==============================] - 0s 12ms/step - loss: 7.5660e-04 - val_loss: 0.0134\n",
            "Epoch 42/50\n",
            "26/26 [==============================] - 0s 9ms/step - loss: 8.5407e-04 - val_loss: 0.0095\n",
            "Epoch 43/50\n",
            "26/26 [==============================] - 0s 9ms/step - loss: 7.8993e-04 - val_loss: 0.0194\n",
            "Epoch 44/50\n",
            "26/26 [==============================] - 0s 10ms/step - loss: 7.7233e-04 - val_loss: 0.0127\n",
            "Epoch 45/50\n",
            "26/26 [==============================] - 0s 10ms/step - loss: 7.6564e-04 - val_loss: 0.0064\n",
            "Epoch 46/50\n",
            "26/26 [==============================] - 0s 9ms/step - loss: 8.9336e-04 - val_loss: 0.0068\n",
            "Epoch 47/50\n",
            "26/26 [==============================] - 0s 10ms/step - loss: 8.0807e-04 - val_loss: 0.0069\n",
            "Epoch 48/50\n",
            "26/26 [==============================] - 0s 9ms/step - loss: 7.7458e-04 - val_loss: 0.0091\n",
            "Epoch 49/50\n",
            "26/26 [==============================] - 0s 9ms/step - loss: 8.3993e-04 - val_loss: 0.0106\n",
            "Epoch 50/50\n",
            "26/26 [==============================] - 0s 9ms/step - loss: 7.9087e-04 - val_loss: 0.0130\n"
          ]
        }
      ]
    },
    {
      "cell_type": "code",
      "source": [
        "mse = model.evaluate(test_X, test_y)\n",
        "print('Mean Squared Error:', mse)"
      ],
      "metadata": {
        "colab": {
          "base_uri": "https://localhost:8080/"
        },
        "id": "GXyVFb0oWW8k",
        "outputId": "587aa6be-2b9b-4936-c309-7d9935148b48"
      },
      "execution_count": null,
      "outputs": [
        {
          "output_type": "stream",
          "name": "stdout",
          "text": [
            "13/13 [==============================] - 0s 3ms/step - loss: 0.0130\n",
            "Mean Squared Error: 0.012959010899066925\n"
          ]
        }
      ]
    },
    {
      "cell_type": "code",
      "source": [],
      "metadata": {
        "id": "1CneMxfGWXcM"
      },
      "execution_count": null,
      "outputs": []
    }
  ]
}